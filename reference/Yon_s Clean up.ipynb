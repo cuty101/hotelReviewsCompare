{
 "cells": [
  {
   "cell_type": "code",
   "execution_count": null,
   "metadata": {},
   "outputs": [],
   "source": [
    "import pandas as pd\n",
    "import nltk\n",
    "import matplotlib.pyplot as plt\n",
    "import string\n",
    "import numpy as np\n",
    "%run functions.ipynb\n",
    "\n",
    "from nltk.tokenize import sent_tokenize\n",
    "from nltk.tokenize import word_tokenize\n",
    "from nltk.probability import FreqDist\n",
    "from nltk.corpus import stopwords\n",
    "from wordcloud import WordCloud\n",
    "from gensim.parsing.porter import PorterStemmer\n",
    "from nltk.probability import FreqDist\n",
    "from nrclex import NRCLex\n",
    "import collections, functools, operator\n",
    "\n",
    "porter_stemmer = PorterStemmer()\n",
    "filtered_sent=[]\n",
    "stemmed_words=[]\n",
    "all_words_clean = []\n",
    "\n",
    "def plot_frequency(freq):\n",
    "    plt.figure(figsize=(10,5))\n",
    "    freq.plot(50,cumulative=False)\n",
    "    plt.show()\n",
    "\n",
    "def plot_cloud(wordcloud):\n",
    "    plt.figure(figsize=(40,30))\n",
    "    plt.imshow(wordcloud)\n",
    "    plt.axis(\"off\")\n",
    "\n",
    "def top_nwords_graph(top10):\n",
    "    data = dict(top10)\n",
    "    courses = (data.keys())\n",
    "    values =  (data.values())\n",
    "\n",
    "    fig = plt.figure(figsize = (10, 5))\n",
    "\n",
    "    # creating the bar plot\n",
    "    plt.bar(courses, values, color ='blue',\n",
    "            width = 0.4)\n",
    "\n",
    "    plt.xlabel(\"Bad reviews\")\n",
    "    plt.ylabel(\"Number of times mentioned\")\n",
    "    plt.title(\"Total number of times mentioned\")\n",
    "    plt.show()\n",
    "\n",
    "nltk.download('stopwords')\n",
    "nltk.download('punkt')\n",
    "nltk.download('wordnet')"
   ]
  },
  {
   "cell_type": "code",
   "execution_count": null,
   "metadata": {},
   "outputs": [],
   "source": [
    "df = pd.read_csv('all_reviews.csv')\n",
    "df = neg_reviews(df)\n",
    "df"
   ]
  },
  {
   "cell_type": "code",
   "execution_count": null,
   "metadata": {},
   "outputs": [],
   "source": [
    "all_words = [word.lower() for sent in df['Content'] for word in word_tokenize(sent)]\n",
    "print(all_words)"
   ]
  },
  {
   "cell_type": "code",
   "execution_count": null,
   "metadata": {},
   "outputs": [],
   "source": [
    "#Specify stopword list\n",
    "stopwords_english = set(stopwords.words('english'))\n",
    "stopwords_english.update(['hotel', 'would', 'us','get','come','back','nt','could','good','great','one','rooms'])\n",
    "#Create a new list of words by removing stopwords and punctuation from all_words\n",
    "\n",
    "for word in all_words:\n",
    "    if word not in stopwords_english and not word.isdigit():\n",
    "        punc_free = ''.join([ch for ch in word if ch not in string.punctuation])\n",
    "        if len(punc_free)>=2:\n",
    "            # stem word to root word\n",
    "            all_words_clean.append(punc_free)\n",
    "print(all_words_clean)"
   ]
  },
  {
   "cell_type": "code",
   "execution_count": null,
   "metadata": {},
   "outputs": [],
   "source": [
    "\n",
    "clean_words_frequency = FreqDist(all_words_clean)\n",
    "top10 = clean_words_frequency.most_common(10)\n",
    "most_common = clean_words_frequency.most_common(10)\n",
    "most_common = pd.Series(dict(most_common))\n",
    "most_common.plot()\n",
    "wordcloud = WordCloud(width=3000, height=2000, colormap='Set2',collocations=False, max_words=200)\n",
    "wordcloud.generate_from_frequencies(frequencies=most_common)\n",
    "\n",
    "# Plot\n",
    "plot_cloud(wordcloud)"
   ]
  },
  {
   "cell_type": "code",
   "execution_count": null,
   "metadata": {},
   "outputs": [],
   "source": [
    "top10"
   ]
  },
  {
   "cell_type": "code",
   "execution_count": null,
   "metadata": {},
   "outputs": [],
   "source": [
    "top_nwords_graph(top10)"
   ]
  },
  {
   "cell_type": "code",
   "execution_count": null,
   "metadata": {},
   "outputs": [],
   "source": [
    "top10_words=[]\n",
    "for i in top10:\n",
    "    top10_words.append(i[0])\n",
    "print(top10_words)\n",
    "list=[]\n",
    "for review in df['Content']:\n",
    "    for i in top10:\n",
    "        if i[0] in review:\n",
    "            list.append(review)\n",
    "            break\n",
    "filtered_review = pd.DataFrame(list)\n",
    "filtered_review"
   ]
  },
  {
   "cell_type": "code",
   "execution_count": null,
   "metadata": {},
   "outputs": [],
   "source": [
    "#['room', 'staff', 'check', 'service', 'stay', 'breakfast', 'time', 'nt', 'bed', 'even']\n",
    "\n",
    "\n",
    "room_reviews = []\n",
    "\n",
    "staff_reviews = []\n",
    "\n",
    "check_reviews = []\n",
    "\n",
    "service_reviews = []\n",
    "\n",
    "stay_reviews = []\n",
    "\n",
    "breakfast_reviews = []\n",
    "\n",
    "time_reviews = []\n",
    "\n",
    "nt_reviews = []\n",
    "\n",
    "bed_reviews = []\n",
    "\n",
    "even_reviews = []\n",
    "\n",
    "for review in filtered_review[0]:\n",
    "    for j in range(len(top10_words)):\n",
    "        if j == 0:\n",
    "            if top10_words[j] in review:\n",
    "                room_reviews.append(review)\n",
    "        elif j == 1:\n",
    "            if top10_words[j] in review:\n",
    "                staff_reviews.append(review)\n",
    "        elif j == 2:\n",
    "            if top10_words[j] in review:\n",
    "                check_reviews.append(review)\n",
    "        elif j == 3:\n",
    "            if top10_words[j] in review:\n",
    "                service_reviews.append(review)\n",
    "        elif j == 4:\n",
    "            if top10_words[j] in review:\n",
    "                stay_reviews.append(review)\n",
    "        elif j == 5:\n",
    "            if top10_words[j] in review:\n",
    "                breakfast_reviews.append(review)\n",
    "        elif j == 6:\n",
    "            if top10_words[j]in review:\n",
    "                time_reviews.append(review)\n",
    "        elif j == 7:\n",
    "            if top10_words[j]in review:\n",
    "                nt_reviews.append(review)\n",
    "        elif j == 8:\n",
    "            if top10_words[j]in review:\n",
    "                bed_reviews.append(review)\n",
    "        elif j == 9:\n",
    "            if top10_words[j]in review:\n",
    "                even_reviews.append(review)\n",
    "                "
   ]
  },
  {
   "cell_type": "code",
   "execution_count": null,
   "metadata": {},
   "outputs": [],
   "source": [
    "#['room', 'staff', 'check', 'service', 'stay', 'breakfast', 'time', 'nt', 'bed', 'even']\n",
    "\n",
    "room_review = pd.DataFrame(room_reviews)\n",
    "staff_review = pd.DataFrame(staff_reviews)\n",
    "check_review = pd.DataFrame(check_reviews)\n",
    "service_review = pd.DataFrame(service_reviews)\n",
    "stay_review = pd.DataFrame(stay_reviews)\n",
    "breakfast_review = pd.DataFrame(breakfast_reviews)\n",
    "time_review = pd.DataFrame(time_reviews)\n",
    "nt_review = pd.DataFrame(nt_reviews)\n",
    "bed_review = pd.DataFrame(bed_reviews)\n",
    "even_review = pd.DataFrame(even_reviews)\n"
   ]
  },
  {
   "cell_type": "code",
   "execution_count": null,
   "metadata": {},
   "outputs": [],
   "source": [
    "def split_by_hotel(df,df_column):\n",
    "    test_df = pd.DataFrame(columns=['Hotel Name', 'Title', 'Content','Rating','Date of stay'])\n",
    "    unique_hotel_name=[]\n",
    "    for hotel in df['Hotel Name']:\n",
    "        unique_hotel_name.append(hotel)\n",
    "    unique_hotel_name=set(unique_hotel_name)\n",
    "    for hotel in range(len(unique_hotel_name)):\n",
    "        gb = df.groupby(df['Hotel Name'])    \n",
    "    return [gb.get_group(x) for x in gb.groups]\n",
    "\n",
    "unique_hotel_name=[]\n",
    "for hotel in df['Hotel Name']:\n",
    "        unique_hotel_name.append(hotel)\n",
    "unique_hotel_name=set(unique_hotel_name) "
   ]
  },
  {
   "cell_type": "code",
   "execution_count": null,
   "metadata": {},
   "outputs": [],
   "source": [
    "room_df = pd.DataFrame(columns=['Hotel Name', 'Title', 'Content','Rating','Date of stay'])\n",
    "for i in room_review[0]:\n",
    "    room_df= pd.concat([room_df,df.loc[df['Content']==i]])\n",
    "room_df['Popular_Word'] = 'room'\n",
    "room_df.sort_values(by=['Hotel Name'])"
   ]
  },
  {
   "cell_type": "code",
   "execution_count": null,
   "metadata": {},
   "outputs": [],
   "source": [
    "staff_df = pd.DataFrame(columns=['Hotel Name', 'Title', 'Content','Rating','Date of stay'])\n",
    "for i in staff_review[0]:\n",
    "    staff_df= pd.concat([staff_df,df.loc[df['Content']==i]])\n",
    "staff_df['Popular_Word'] = 'room'\n",
    "staff_df.sort_values(by=['Hotel Name'])\n"
   ]
  },
  {
   "cell_type": "code",
   "execution_count": null,
   "metadata": {},
   "outputs": [],
   "source": [
    "check_df = pd.DataFrame(columns=['Hotel Name', 'Title', 'Content','Rating','Date of stay'])\n",
    "for i in check_review[0]:\n",
    "    check_df= pd.concat([check_df,df.loc[df['Content']==i]])\n",
    "check_df['Popular_Word'] = 'nt'\n",
    "check_df.sort_values(by=['Hotel Name'])\n"
   ]
  },
  {
   "cell_type": "code",
   "execution_count": null,
   "metadata": {},
   "outputs": [],
   "source": [
    "service_df = pd.DataFrame(columns=['Hotel Name', 'Title', 'Content','Rating','Date of stay'])\n",
    "for i in service_review[0]:\n",
    "    service_df= pd.concat([service_df,df.loc[df['Content']==i]])\n",
    "service_df['Popular_Word'] = 'call'\n",
    "service_df.sort_values(by=['Hotel Name'])"
   ]
  },
  {
   "cell_type": "code",
   "execution_count": null,
   "metadata": {},
   "outputs": [],
   "source": [
    "stay_df = pd.DataFrame(columns=['Hotel Name', 'Title', 'Content','Rating','Date of stay'])\n",
    "for i in stay_review[0]:\n",
    "    stay_df= pd.concat([stay_df,df.loc[df['Content']==i]])\n",
    "stay_df['Popular_Word'] = 'breakfast'\n",
    "stay_df.sort_values(by=['Hotel Name'])"
   ]
  },
  {
   "cell_type": "code",
   "execution_count": null,
   "metadata": {},
   "outputs": [],
   "source": [
    "breakfast_df = pd.DataFrame(columns=['Hotel Name', 'Title', 'Content','Rating','Date of stay'])\n",
    "for i in breakfast_review[0]:\n",
    "    breakfast_df= pd.concat([breakfast_df,df.loc[df['Content']==i]])\n",
    "breakfast_df['Popular_Word'] = 'night'\n",
    "breakfast_df.sort_values(by=['Hotel Name'])\n"
   ]
  },
  {
   "cell_type": "code",
   "execution_count": null,
   "metadata": {},
   "outputs": [],
   "source": [
    "time_df = pd.DataFrame(columns=['Hotel Name', 'Title', 'Content','Rating','Date of stay'])\n",
    "for i in time_review[0]:\n",
    "    time_df= pd.concat([time_df,df.loc[df['Content']==i]])\n",
    "time_df['Popular_Word'] = 'staff'\n",
    "time_df.sort_values(by=['Hotel Name'])\n"
   ]
  },
  {
   "cell_type": "code",
   "execution_count": null,
   "metadata": {},
   "outputs": [],
   "source": [
    "nt_df = pd.DataFrame(columns=['Hotel Name', 'Title', 'Content','Rating','Date of stay'])\n",
    "for i in nt_review[0]:\n",
    "    nt_df= pd.concat([nt_df,df.loc[df['Content']==i]])\n",
    "nt_df['Popular_Word'] = 'taxi'\n",
    "nt_df.sort_values(by=['Hotel Name'])\n"
   ]
  },
  {
   "cell_type": "code",
   "execution_count": null,
   "metadata": {},
   "outputs": [],
   "source": [
    "bed_df = pd.DataFrame(columns=['Hotel Name', 'Title', 'Content','Rating','Date of stay'])\n",
    "for i in bed_review[0]:\n",
    "    bed_df= pd.concat([bed_df,df.loc[df['Content']==i]])\n",
    "bed_df['Popular_Word'] = 'even'\n",
    "bed_df.sort_values(by=['Hotel Name'])\n"
   ]
  },
  {
   "cell_type": "code",
   "execution_count": null,
   "metadata": {},
   "outputs": [],
   "source": [
    "even_df = pd.DataFrame(columns=['Hotel Name', 'Title', 'Content','Rating','Date of stay'])\n",
    "for i in even_review[0]:\n",
    "    even_df= pd.concat([even_df,df.loc[df['Content']==i]])\n",
    "even_df['Popular_Word'] = 'stayed'\n",
    "even_df.sort_values(by=['Hotel Name'])\n"
   ]
  },
  {
   "cell_type": "code",
   "execution_count": null,
   "metadata": {},
   "outputs": [],
   "source": [
    "print(even_df)"
   ]
  },
  {
   "cell_type": "code",
   "execution_count": null,
   "metadata": {},
   "outputs": [],
   "source": [
    "#['room', 'staff', 'check', 'service', 'stay', 'breakfast', 'time', 'nt', 'bed', 'even']\n",
    "unique_df = concat_dataframes_get_unique_hotels(room_df, staff_df,check_df,service_df,stay_df,breakfast_df,time_df,nt_df,bed_df,even_df)"
   ]
  },
  {
   "cell_type": "code",
   "execution_count": null,
   "metadata": {},
   "outputs": [],
   "source": [
    "print(unique_df)"
   ]
  },
  {
   "cell_type": "code",
   "execution_count": null,
   "metadata": {},
   "outputs": [],
   "source": [
    " #get unique hotel names\n",
    "UniqueNames = unique_df.Hotel_Name.unique()\n",
    "\n",
    "#create a data frame dictionary to store your data frames\n",
    "UniqueHotel = {elem : pd.DataFrame() for elem in UniqueNames}\n",
    "\n",
    "for key in UniqueHotel.keys():\n",
    "    UniqueHotel[key] = unique_df[:][unique_df.Hotel_Name == key]\n",
    "list_of_unique_hotel_df=unique_hotels_df(UniqueNames)"
   ]
  },
  {
   "cell_type": "code",
   "execution_count": null,
   "metadata": {},
   "outputs": [],
   "source": [
    "graph_for_reviewers_emotions(list_of_unique_hotel_df)"
   ]
  },
  {
   "cell_type": "code",
   "execution_count": null,
   "metadata": {},
   "outputs": [],
   "source": [
    "graph_for_overall_rating(df, UniqueNames)"
   ]
  }
 ],
 "metadata": {
  "kernelspec": {
   "display_name": "Python 3.10.7 64-bit",
   "language": "python",
   "name": "python3"
  },
  "language_info": {
   "codemirror_mode": {
    "name": "ipython",
    "version": 3
   },
   "file_extension": ".py",
   "mimetype": "text/x-python",
   "name": "python",
   "nbconvert_exporter": "python",
   "pygments_lexer": "ipython3",
   "version": "3.10.7"
  },
  "orig_nbformat": 4,
  "vscode": {
   "interpreter": {
    "hash": "43aa1513a8ae6fb55aa993ab4cbc8b5f8efb7e4289a5c8142ed71eac8387350a"
   }
  }
 },
 "nbformat": 4,
 "nbformat_minor": 2
}
