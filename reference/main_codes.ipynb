{
 "cells": [
  {
   "cell_type": "code",
   "execution_count": null,
   "id": "b021ff2c",
   "metadata": {},
   "outputs": [],
   "source": [
    "import pandas as pd\n",
    "import nltk\n",
    "from nltk.tokenize import sent_tokenize\n",
    "from nltk.tokenize import word_tokenize\n",
    "from nltk.corpus import stopwords\n",
    "import string\n",
    "from gensim.parsing.porter import PorterStemmer\n",
    "porter_stemmer = PorterStemmer()\n",
    "from nltk.probability import FreqDist\n",
    "from wordcloud import WordCloud\n",
    "import matplotlib.pyplot as plt\n",
    "import numpy as np\n",
    "from nrclex import NRCLex\n",
    "import collections, functools, operator\n",
    "%run functions.ipynb"
   ]
  },
  {
   "cell_type": "code",
   "execution_count": null,
   "id": "06c76524",
   "metadata": {},
   "outputs": [],
   "source": [
    "df = pd.read_csv(r'C:\\Users\\chery\\Desktop\\python_proj\\all_reviews.csv')\n",
    "\n",
    "df"
   ]
  },
  {
   "cell_type": "code",
   "execution_count": null,
   "id": "e9ce55ec",
   "metadata": {},
   "outputs": [],
   "source": [
    "neg_reviews(df)"
   ]
  },
  {
   "cell_type": "code",
   "execution_count": null,
   "id": "0bb6191d",
   "metadata": {
    "scrolled": true
   },
   "outputs": [],
   "source": [
    "pos_df=pos_reviews(df)\n",
    "pos_df"
   ]
  },
  {
   "cell_type": "code",
   "execution_count": null,
   "id": "87787f0d",
   "metadata": {},
   "outputs": [],
   "source": [
    "rating_df=pd.read_csv(r'C:\\Users\\chery\\Desktop\\python_proj\\all_subratings.csv')"
   ]
  },
  {
   "cell_type": "code",
   "execution_count": null,
   "id": "7bfd5dad",
   "metadata": {},
   "outputs": [],
   "source": [
    "top10_words=clean_words(pos_df)"
   ]
  },
  {
   "cell_type": "code",
   "execution_count": null,
   "id": "4beb1c78",
   "metadata": {},
   "outputs": [],
   "source": [
    "top_words_graph(top10_words)"
   ]
  },
  {
   "cell_type": "code",
   "execution_count": null,
   "id": "fa9c58d7",
   "metadata": {},
   "outputs": [],
   "source": [
    "filtered_reviews=filtered_reviews_based_on_top10(top10_words, pos_df)"
   ]
  },
  {
   "cell_type": "code",
   "execution_count": null,
   "id": "42c3829a",
   "metadata": {},
   "outputs": [],
   "source": [
    "first_top_df=separate_reviews(filtered_reviews,top10_words)[0]"
   ]
  },
  {
   "cell_type": "code",
   "execution_count": null,
   "id": "d13baca3",
   "metadata": {},
   "outputs": [],
   "source": [
    "second_top_df=separate_reviews(filtered_reviews,top10_words)[1]"
   ]
  },
  {
   "cell_type": "code",
   "execution_count": null,
   "id": "1edcd38c",
   "metadata": {},
   "outputs": [],
   "source": [
    "third_top_df=separate_reviews(filtered_reviews,top10_words)[2]"
   ]
  },
  {
   "cell_type": "code",
   "execution_count": null,
   "id": "cad7678c",
   "metadata": {},
   "outputs": [],
   "source": [
    "fourth_top_df=separate_reviews(filtered_reviews,top10_words)[3]"
   ]
  },
  {
   "cell_type": "code",
   "execution_count": null,
   "id": "40643334",
   "metadata": {},
   "outputs": [],
   "source": [
    "fifth_top_df=separate_reviews(filtered_reviews,top10_words)[4]"
   ]
  },
  {
   "cell_type": "code",
   "execution_count": null,
   "id": "caec1e26",
   "metadata": {},
   "outputs": [],
   "source": [
    "sixth_top_df=separate_reviews(filtered_reviews,top10_words)[5]"
   ]
  },
  {
   "cell_type": "code",
   "execution_count": null,
   "id": "7d2cf150",
   "metadata": {},
   "outputs": [],
   "source": [
    "seventh_top_df=separate_reviews(filtered_reviews,top10_words)[6]"
   ]
  },
  {
   "cell_type": "code",
   "execution_count": null,
   "id": "e54a5165",
   "metadata": {},
   "outputs": [],
   "source": [
    "eighth_top_df=separate_reviews(filtered_reviews,top10_words)[7]"
   ]
  },
  {
   "cell_type": "code",
   "execution_count": null,
   "id": "36d4015f",
   "metadata": {},
   "outputs": [],
   "source": [
    "ninth_top_df=separate_reviews(filtered_reviews,top10_words)[8]"
   ]
  },
  {
   "cell_type": "code",
   "execution_count": null,
   "id": "89473cc7",
   "metadata": {},
   "outputs": [],
   "source": [
    "tenth_top_df=separate_reviews(filtered_reviews,top10_words)[9]"
   ]
  },
  {
   "cell_type": "code",
   "execution_count": null,
   "id": "7825d92f",
   "metadata": {},
   "outputs": [],
   "source": [
    "first_top_df=convert_to_dataframe(first_top_df, pos_df)\n",
    "first_top_df['Popular_Word']='room'"
   ]
  },
  {
   "cell_type": "code",
   "execution_count": null,
   "id": "bd6d607e",
   "metadata": {},
   "outputs": [],
   "source": [
    "second_top_df=convert_to_dataframe(second_top_df, pos_df)\n",
    "second_top_df['Popular_Word']='staff'"
   ]
  },
  {
   "cell_type": "code",
   "execution_count": null,
   "id": "d131a428",
   "metadata": {},
   "outputs": [],
   "source": [
    "third_top_df=convert_to_dataframe(third_top_df, pos_df)\n",
    "third_top_df['Popular_Word']='stay'"
   ]
  },
  {
   "cell_type": "code",
   "execution_count": null,
   "id": "bad9d490",
   "metadata": {},
   "outputs": [],
   "source": [
    "fourth_top_df=convert_to_dataframe(fourth_top_df, pos_df)\n",
    "fourth_top_df['Popular_Word']='service'"
   ]
  },
  {
   "cell_type": "code",
   "execution_count": null,
   "id": "d126bc90",
   "metadata": {},
   "outputs": [],
   "source": [
    "fifth_top_df=convert_to_dataframe(fifth_top_df, pos_df)\n",
    "fifth_top_df['Popular_Word']='location'"
   ]
  },
  {
   "cell_type": "code",
   "execution_count": null,
   "id": "9b3daf18",
   "metadata": {},
   "outputs": [],
   "source": [
    "sixth_top_df=convert_to_dataframe(sixth_top_df, pos_df)\n",
    "sixth_top_df['Popular_Word']='friendly'"
   ]
  },
  {
   "cell_type": "code",
   "execution_count": null,
   "id": "f4111da5",
   "metadata": {},
   "outputs": [],
   "source": [
    "seventh_top_df=convert_to_dataframe(seventh_top_df, pos_df)\n",
    "seventh_top_df['Popular_Word']='clean'"
   ]
  },
  {
   "cell_type": "code",
   "execution_count": null,
   "id": "d749c9de",
   "metadata": {},
   "outputs": [],
   "source": [
    "eighth_top_df=convert_to_dataframe(eighth_top_df, pos_df)\n",
    "eighth_top_df['Popular_Word']='nice'"
   ]
  },
  {
   "cell_type": "code",
   "execution_count": null,
   "id": "14e2e952",
   "metadata": {},
   "outputs": [],
   "source": [
    "ninth_top_df=convert_to_dataframe(ninth_top_df, pos_df)\n",
    "ninth_top_df['Popular_Word']='breakfast'"
   ]
  },
  {
   "cell_type": "code",
   "execution_count": null,
   "id": "b7b14a29",
   "metadata": {},
   "outputs": [],
   "source": [
    "tenth_top_df=convert_to_dataframe(tenth_top_df, pos_df)\n",
    "tenth_top_df['Popular_Word']='food'"
   ]
  },
  {
   "cell_type": "code",
   "execution_count": null,
   "id": "0f7f538f",
   "metadata": {},
   "outputs": [],
   "source": [
    "unique_df=concat_dataframes_get_unique_hotels(first_top_df, second_top_df,third_top_df,fourth_top_df,fifth_top_df,sixth_top_df,seventh_top_df,eighth_top_df,ninth_top_df,tenth_top_df)"
   ]
  },
  {
   "cell_type": "code",
   "execution_count": null,
   "id": "6f1be6a0",
   "metadata": {},
   "outputs": [],
   "source": [
    " #get unique hotel names\n",
    "UniqueNames = unique_df.Hotel_Name.unique()\n",
    "\n",
    "#create a data frame dictionary to store your data frames\n",
    "UniqueHotel = {elem : pd.DataFrame() for elem in UniqueNames}\n",
    "\n",
    "for key in UniqueHotel.keys():\n",
    "    UniqueHotel[key] = unique_df[:][unique_df.Hotel_Name == key]"
   ]
  },
  {
   "cell_type": "code",
   "execution_count": null,
   "id": "9d01d7f8",
   "metadata": {},
   "outputs": [],
   "source": [
    "list_of_unique_hotel_df=unique_hotels_df(UniqueNames)"
   ]
  },
  {
   "cell_type": "code",
   "execution_count": null,
   "id": "461d911d",
   "metadata": {},
   "outputs": [],
   "source": [
    "graph_for_reviewers_emotions(list_of_unique_hotel_df)"
   ]
  },
  {
   "cell_type": "code",
   "execution_count": null,
   "id": "c7cf842e",
   "metadata": {
    "scrolled": true
   },
   "outputs": [],
   "source": [
    "graph_for_overall_rating(df, UniqueNames)"
   ]
  },
  {
   "cell_type": "code",
   "execution_count": null,
   "id": "486c59ee",
   "metadata": {},
   "outputs": [],
   "source": [
    "graph_for_cleanliness_rating(rating_df)"
   ]
  },
  {
   "cell_type": "code",
   "execution_count": null,
   "id": "ecd59cde",
   "metadata": {},
   "outputs": [],
   "source": [
    "graph_for_service_rating(rating_df)"
   ]
  },
  {
   "cell_type": "code",
   "execution_count": null,
   "id": "9344483b",
   "metadata": {},
   "outputs": [],
   "source": []
  }
 ],
 "metadata": {
  "kernelspec": {
   "display_name": "Python 3 (ipykernel)",
   "language": "python",
   "name": "python3"
  },
  "language_info": {
   "codemirror_mode": {
    "name": "ipython",
    "version": 3
   },
   "file_extension": ".py",
   "mimetype": "text/x-python",
   "name": "python",
   "nbconvert_exporter": "python",
   "pygments_lexer": "ipython3",
   "version": "3.8.3"
  }
 },
 "nbformat": 4,
 "nbformat_minor": 5
}
