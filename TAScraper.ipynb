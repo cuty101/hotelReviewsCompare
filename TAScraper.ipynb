{
 "cells": [
  {
   "cell_type": "code",
   "execution_count": 1,
   "metadata": {},
   "outputs": [],
   "source": [
    "#imports\n",
    "import requests\n",
    "from bs4 import BeautifulSoup as soup\n",
    "import re"
   ]
  },
  {
   "cell_type": "code",
   "execution_count": 2,
   "metadata": {},
   "outputs": [
    {
     "data": {
      "text/plain": [
       "200"
      ]
     },
     "execution_count": 2,
     "metadata": {},
     "output_type": "execute_result"
    }
   ],
   "source": [
    "#sending the request to the site\n",
    "html = requests.get(\"https://www.tripadvisor.com/Hotels-g294265-Singapore-Hotels.html\", headers={\"User-Agent\": \"Mozilla/5.0 (X11; CrOS x86_64 12871.102.0) AppleWebKit/537.36 (KHTML, like Gecko) Chrome/81.0.4044.141 Safari/537.36\"})\n",
    "html.status_code"
   ]
  },
  {
   "cell_type": "code",
   "execution_count": 3,
   "metadata": {},
   "outputs": [],
   "source": [
    "#store the soup\n",
    "bsobj = soup(html.content, 'lxml')"
   ]
  },
  {
   "cell_type": "code",
   "execution_count": 9,
   "metadata": {},
   "outputs": [
    {
     "data": {
      "text/plain": [
       "[36, 30, 24, 18, 12, 6, 0]"
      ]
     },
     "execution_count": 9,
     "metadata": {},
     "output_type": "execute_result"
    }
   ],
   "source": [
    "#creates a list with the names of the hotel\n",
    "hotel = []\n",
    "skipSponsored = []\n",
    "count = -1\n",
    "for name in bsobj.findAll('div', {\"class\":\"listing_title\"}):\n",
    "    count += 1\n",
    "    name = name.text.strip()\n",
    "    if not name.find(\"Sponsored\"):                              #skips the junk objects\n",
    "        skipSponsored.append(count)\n",
    "        continue \n",
    "    else:\n",
    "        name = re.sub(\"\\d+\\.\\s\", \"\", name)                      #removes the rank number from the hotel name\n",
    "        hotel.append(name)\n",
    "skipSponsored.reverse()\n",
    "\n",
    "\n",
    "hotel"
   ]
  },
  {
   "cell_type": "code",
   "execution_count": 27,
   "metadata": {},
   "outputs": [
    {
     "data": {
      "text/plain": [
       "[9.0,\n",
       " 9.0,\n",
       " 8.0,\n",
       " 8.0,\n",
       " 9.0,\n",
       " 10.0,\n",
       " 8.0,\n",
       " 9.0,\n",
       " 9.0,\n",
       " 8.0,\n",
       " 9.0,\n",
       " 8.0,\n",
       " 8.0,\n",
       " 8.0,\n",
       " 9.0,\n",
       " 7.0,\n",
       " 7.0,\n",
       " 8.0,\n",
       " 9.0,\n",
       " 9.0,\n",
       " 8.0,\n",
       " 8.0,\n",
       " 7.0,\n",
       " 9.0,\n",
       " 8.0,\n",
       " 8.0,\n",
       " 8.0,\n",
       " 6.0,\n",
       " 7.0,\n",
       " 9.0]"
      ]
     },
     "execution_count": 27,
     "metadata": {},
     "output_type": "execute_result"
    }
   ],
   "source": [
    "#ratings list\n",
    "ratings = []\n",
    "for rating in bsobj.findAll('a',{'class':'ui_bubble_rating'}):\n",
    "  rating = rating[\"alt\"]\n",
    "  rating = rating.replace(\" bubbles\", '')\n",
    "  rating = rating.replace(\" of 5\", \"\")\n",
    "  rating = float(rating)*2\n",
    "  ratings.append(rating)\n",
    "for i in skipSponsored:\n",
    "  del ratings[i]\n",
    "\n",
    "ratings"
   ]
  },
  {
   "cell_type": "code",
   "execution_count": 6,
   "metadata": {},
   "outputs": [
    {
     "data": {
      "text/plain": [
       "['8,964 reviews',\n",
       " '8,757 reviews',\n",
       " '4,000 reviews',\n",
       " '2,341 reviews',\n",
       " '7,124 reviews',\n",
       " '684 reviews',\n",
       " '4,027 reviews',\n",
       " '11,981 reviews',\n",
       " '3,013 reviews',\n",
       " '3,640 reviews',\n",
       " '8,511 reviews',\n",
       " '5,112 reviews',\n",
       " '5,550 reviews',\n",
       " '2,121 reviews',\n",
       " '1,553 reviews',\n",
       " '1,929 reviews',\n",
       " '4,938 reviews',\n",
       " '4,032 reviews',\n",
       " '1,076 reviews',\n",
       " '585 reviews',\n",
       " '5,017 reviews',\n",
       " '3,938 reviews',\n",
       " '5,014 reviews',\n",
       " '5,478 reviews',\n",
       " '3,440 reviews',\n",
       " '649 reviews',\n",
       " '783 reviews',\n",
       " '594 reviews',\n",
       " '670 reviews',\n",
       " '29,592 reviews']"
      ]
     },
     "execution_count": 6,
     "metadata": {},
     "output_type": "execute_result"
    }
   ],
   "source": [
    "reviews = []\n",
    "for review in bsobj.findAll('a',{'class':'review_count'}):\n",
    "  reviews.append(review.text.strip())\n",
    "for i in skipSponsored:\n",
    "  del reviews[i]\n",
    "\n",
    "reviews"
   ]
  },
  {
   "cell_type": "code",
   "execution_count": 7,
   "metadata": {},
   "outputs": [
    {
     "data": {
      "text/plain": [
       "['559',\n",
       " '578',\n",
       " '383',\n",
       " '136',\n",
       " '400',\n",
       " '794',\n",
       " '181',\n",
       " '417',\n",
       " '365',\n",
       " '212',\n",
       " '525',\n",
       " '235',\n",
       " '223',\n",
       " '264',\n",
       " '340',\n",
       " '243',\n",
       " '142',\n",
       " '143',\n",
       " '254',\n",
       " '340',\n",
       " '308',\n",
       " '147',\n",
       " '317',\n",
       " '235',\n",
       " '247',\n",
       " '296',\n",
       " '147',\n",
       " '135',\n",
       " '102',\n",
       " '2,317']"
      ]
     },
     "execution_count": 7,
     "metadata": {},
     "output_type": "execute_result"
    }
   ],
   "source": [
    "price = []\n",
    "regexp = re.compile(r\"(SGD\\s\\d+SGD\\s)\", re.UNICODE)     #regex to search discounted prices and return the discounted price\n",
    "regexp2 = re.compile(r\"(SGD\\s)\", re.UNICODE)            #regex for SGD&nbsp\n",
    "for p in bsobj.findAll('div',{'class':'price-wrap'}):\n",
    "  p = p.text.replace('₹','').strip()\n",
    "  p = regexp.sub(\"\", p)                                 #removes the striked off price\n",
    "  p = regexp2.sub(\"\", p)                                #removes SGD&nbsp\n",
    "  price.append(p)\n",
    "for i in skipSponsored:\n",
    "    del price[i]\n",
    "\n",
    "price"
   ]
  }
 ],
 "metadata": {
  "kernelspec": {
   "display_name": "Python 3.10.7 64-bit (microsoft store)",
   "language": "python",
   "name": "python3"
  },
  "language_info": {
   "codemirror_mode": {
    "name": "ipython",
    "version": 3
   },
   "file_extension": ".py",
   "mimetype": "text/x-python",
   "name": "python",
   "nbconvert_exporter": "python",
   "pygments_lexer": "ipython3",
   "version": "3.10.7"
  },
  "orig_nbformat": 4,
  "vscode": {
   "interpreter": {
    "hash": "41093ff0b25c945d9987b7a8a93356595746787f7a59fb209d47c741ccff8639"
   }
  }
 },
 "nbformat": 4,
 "nbformat_minor": 2
}
